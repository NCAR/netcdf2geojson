{
 "cells": [
  {
   "cell_type": "markdown",
   "id": "9495346f",
   "metadata": {},
   "source": [
    "# Converting a NetCDF File to GeoJSON\n",
    "\n",
    "A function that takes a NetCDF file and converts it into a GeoJSON collection of points. Libraries required: geojson, xarray, numpy.\n",
    "\n",
    "General approach:\n",
    "1. Import libraries and read in NetCDF file.\n",
    "2. Make new longitude/latitude coordinate arrays between (-180, 180) for longitude and (-90, 90) for latitude to make the data fit an equidistant cylindrical map projection (EPSG:4087).\n",
    "3. Loop over coordinates to create a GeoJSON feature point for each pair; append to create GeoJSON file."
   ]
  },
  {
   "cell_type": "code",
   "execution_count": null,
   "id": "21df787c",
   "metadata": {},
   "outputs": [],
   "source": [
    "import geojson\n",
    "import xarray as xr\n",
    "import numpy as np\n",
    "\n",
    "def netcdf_to_geojson(nc_file, lon_variable, lat_variable, data_variable, geojson_name):\n",
    "    \"\"\"\n",
    "    Returns: a GeoJSON file created from the data in a structured NetCDF file, with coordinates following an \n",
    "    equidistant cylindrical projection (EPSG:4087) and a property storing one specified data variable.\n",
    "    \n",
    "    Parameters:\n",
    "    nc_file: String. Path and name of structured NetCDF file to convert.\n",
    "    lon_variable: String. Name of coordinate variable used to represent the data on a horizontal basis in the NetCDF file (i.e. 'lon', 'x').\n",
    "    lat_variable: String. Name of coordinate variable used to represent the data on a vertical basis in the NetCDF file (i.e. 'lat', 'y').\n",
    "    data_variable: String. Name of data variable of interest from the NetCDF file. Will be retained as a property of the GeoJSON file.\n",
    "    geojson_name: String. Path and name of desired GeoJSON file output.\n",
    "    \"\"\"\n",
    "    # open dataset\n",
    "    ds = xr.open_dataset(nc_file)\n",
    "    \n",
    "    # \"reprojecting\" by making new coordinate arrays following the equidistant cylindrical projection\n",
    "    step_lon = 360 / ds[lon_variable].size\n",
    "    step_lat = 180 / ds[lat_variable].size\n",
    "\n",
    "    reproject_lon = np.arange(-180, 180, step_lon)\n",
    "    reproject_lat = np.arange(-90, 90, step_lat)\n",
    "\n",
    "    new_latitude_var = xr.DataArray(reproject_lat, dims=\"latitude\")\n",
    "    new_longitude_var = xr.DataArray(reproject_lon, dims=\"longitude\")\n",
    "    \n",
    "    # update the dataset with new coordinate variables\n",
    "    ds[\"latitude\"] = new_latitude_var\n",
    "    ds[\"longitude\"] = new_longitude_var\n",
    "\n",
    "    # identify key variables\n",
    "    latitude = ds[\"latitude\"]\n",
    "    latitude_range = len(latitude)\n",
    "    longitude = ds[\"longitude\"]\n",
    "    longitude_range = len(longitude)\n",
    "    data_var = ds[data_variable].round(0)\n",
    "    \n",
    "    # prepare GeoJSON\n",
    "    geojson_features = []\n",
    "    \n",
    "    # loop over all coordinate pairs\n",
    "    for i in range(latitude_range):\n",
    "        for j in range(longitude_range):\n",
    "            lat = float(latitude[i])\n",
    "            lon = float(longitude[j])\n",
    "            data_value = float(data_var[i, j])\n",
    "\n",
    "            # Create a GeoJSON feature for each point\n",
    "            point = geojson.Point((lon, lat))\n",
    "            properties = {data_variable: data_value}\n",
    "            feature = geojson.Feature(geometry=point, properties=properties)\n",
    "            geojson_features.append(feature)\n",
    "    \n",
    "    # write GeoJSON to File\n",
    "    with open(geojson_name, \"w\") as f:\n",
    "        geojson.dump(geojson.FeatureCollection(geojson_features), f)"
   ]
  },
  {
   "cell_type": "code",
   "execution_count": null,
   "id": "62031ad4",
   "metadata": {},
   "outputs": [],
   "source": [
    "netcdf_to_geojson(\"../sample_data/h1.2000-11-15-10800.t0_360x720.nc\", \"x\", \"y\", \"IVT\", \"../geojson_data/360x720.geojson\")"
   ]
  },
  {
   "cell_type": "code",
   "execution_count": null,
   "id": "590e6dc0",
   "metadata": {},
   "outputs": [],
   "source": [
    "# larger files may require several minutes to run.\n",
    "# commented out line below due to the resulting file being above GitHub upload size limits.\n",
    "# netcdf_to_geojson(\"../sample_data/h1.2000-11-15-10800.t0_360x720.nc\", \"x\", \"y\", \"IVT\", \"../geojson_data/720x1440.geojson\")"
   ]
  }
 ],
 "metadata": {
  "kernelspec": {
   "display_name": "Python 3 (ipykernel)",
   "language": "python",
   "name": "python3"
  },
  "language_info": {
   "codemirror_mode": {
    "name": "ipython",
    "version": 3
   },
   "file_extension": ".py",
   "mimetype": "text/x-python",
   "name": "python",
   "nbconvert_exporter": "python",
   "pygments_lexer": "ipython3",
   "version": "3.9.13"
  }
 },
 "nbformat": 4,
 "nbformat_minor": 5
}
